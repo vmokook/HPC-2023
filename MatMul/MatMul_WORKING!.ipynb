{
  "nbformat": 4,
  "nbformat_minor": 0,
  "metadata": {
    "colab": {
      "provenance": [],
      "gpuType": "T4"
    },
    "kernelspec": {
      "name": "python3",
      "display_name": "Python 3"
    },
    "language_info": {
      "name": "python"
    },
    "accelerator": "GPU"
  },
  "cells": [
    {
      "cell_type": "code",
      "execution_count": 1,
      "metadata": {
        "id": "sKjmA880NzSG"
      },
      "outputs": [],
      "source": [
        "from numba import cuda, float32\n",
        "import numba\n",
        "import numpy as np\n",
        "import math\n",
        "import time\n",
        "import cupy as cp"
      ]
    },
    {
      "cell_type": "code",
      "source": [
        "@numba.jit(nopython=True)\n",
        "def matmul_cpu(A, B, C):\n",
        "    for y in range(B.shape[1]):\n",
        "        for x in range(A.shape[0]):\n",
        "            tmp = 0.\n",
        "            for k in range(A.shape[1]):\n",
        "                tmp += A[x, k] * B[k, y]\n",
        "            C[x, y] = tmp\n",
        "\n",
        "\n",
        "@cuda.jit()\n",
        "def matmul_gpu(A, B, C):\n",
        "    row, col = cuda.grid(2)\n",
        "    if row < C.shape[0] and col < C.shape[1]:\n",
        "        tmp = 0.\n",
        "        for k in range(A.shape[1]):\n",
        "            tmp += A[row, k] * B[k, col]\n",
        "        C[row, col] = tmp\n",
        "\n",
        "\n",
        "@cuda.jit()\n",
        "def matmul_shared_mem(A, B, C):\n",
        "    sA = cuda.shared.array((TPB, TPB), dtype=float32)\n",
        "    sB = cuda.shared.array((TPB, TPB), dtype=float32)\n",
        "    x, y = cuda.grid(2)\n",
        "\n",
        "    tx = cuda.threadIdx.x\n",
        "    ty = cuda.threadIdx.y\n",
        "    if x >= C.shape[0] and y >= C.shape[1]:\n",
        "        return\n",
        "    tmp = 0.\n",
        "    for i in range(int(A.shape[1] / TPB)):\n",
        "        sA[tx, ty] = A[x, ty + i * TPB]\n",
        "        sB[tx, ty] = B[tx + i * TPB, y]\n",
        "        cuda.syncthreads()\n",
        "        for j in range(TPB):\n",
        "            tmp += sA[tx, j] * sB[j, ty]\n",
        "        cuda.syncthreads()\n",
        "    C[x, y] = tmp\n"
      ],
      "metadata": {
        "id": "xn-VyjvxN2Tf"
      },
      "execution_count": 2,
      "outputs": []
    },
    {
      "cell_type": "code",
      "source": [
        "SIZE = 200\n",
        "A_cpu = np.random.uniform(0, 1, size=(SIZE, SIZE))\n",
        "B_cpu = np.random.uniform(0, 1, size=(SIZE, SIZE))\n",
        "A_gpu = cp.asarray(A_cpu)\n",
        "B_gpu = cp.asarray(B_cpu)\n",
        "C_cpu = np.zeros((SIZE, SIZE), dtype=np.float32)\n",
        "C_gpu = cp.zeros((SIZE, SIZE), dtype=np.float32)"
      ],
      "metadata": {
        "id": "D8z5tSxhN_rr"
      },
      "execution_count": 3,
      "outputs": []
    },
    {
      "cell_type": "markdown",
      "source": [
        "**Произведение двух матриц на CPU**"
      ],
      "metadata": {
        "id": "Gkw1jXsaVGIH"
      }
    },
    {
      "cell_type": "code",
      "source": [
        "%%time\n",
        "matmul_cpu(A_cpu, B_cpu, C_cpu)"
      ],
      "metadata": {
        "colab": {
          "base_uri": "https://localhost:8080/"
        },
        "id": "BOEX8hUCQ0AQ",
        "outputId": "8b55fbf7-504d-495e-d50e-d6ec64bea25d"
      },
      "execution_count": 4,
      "outputs": [
        {
          "output_type": "stream",
          "name": "stdout",
          "text": [
            "CPU times: user 535 ms, sys: 22.5 ms, total: 557 ms\n",
            "Wall time: 930 ms\n"
          ]
        }
      ]
    },
    {
      "cell_type": "code",
      "source": [
        "C_cpu"
      ],
      "metadata": {
        "colab": {
          "base_uri": "https://localhost:8080/"
        },
        "id": "KtaYAUswm32C",
        "outputId": "b9321e91-4fdf-4e4b-b310-1315bc05dd55"
      },
      "execution_count": 5,
      "outputs": [
        {
          "output_type": "execute_result",
          "data": {
            "text/plain": [
              "array([[44.916622, 49.941593, 48.623768, ..., 50.437267, 50.361526,\n",
              "        48.809433],\n",
              "       [48.301716, 52.09459 , 49.860134, ..., 51.739372, 52.010094,\n",
              "        50.321735],\n",
              "       [45.725243, 49.341755, 49.41554 , ..., 49.35939 , 52.26733 ,\n",
              "        47.56921 ],\n",
              "       ...,\n",
              "       [43.6235  , 48.84848 , 43.440243, ..., 46.739456, 46.69271 ,\n",
              "        44.725   ],\n",
              "       [47.756752, 52.38956 , 50.84874 , ..., 54.454025, 55.534687,\n",
              "        51.088886],\n",
              "       [47.00979 , 53.283634, 47.81738 , ..., 52.284134, 52.284416,\n",
              "        50.18201 ]], dtype=float32)"
            ]
          },
          "metadata": {},
          "execution_count": 5
        }
      ]
    },
    {
      "cell_type": "markdown",
      "source": [
        "**Произведение двух матриц на GPU**"
      ],
      "metadata": {
        "id": "45mW3e1CVCOg"
      }
    },
    {
      "cell_type": "code",
      "source": [
        "threads_per_block = (16, 16)  #Задаемся размерами блока. (20,20) - блок состоит из 400 потоков квадратом 20 на 20, обычно норма 128 - 512 threads/block\n",
        "blockspergrid_x = int(np.ceil(C_gpu.shape[0] / threads_per_block[0])) #количество блоков по х\n",
        "blockspergrid_y = int(np.ceil(C_gpu.shape[1] / threads_per_block[1]))\n",
        "blocks_per_grid = (blockspergrid_x, blockspergrid_y)  # Создание сетки из блоков\n",
        "print(blocks_per_grid) #Количество блоков в сетке\n",
        "print(f\"The kernel will be executed up to element {threads_per_block[0]*blockspergrid_x}\") #Проверка размеров сетки для массива С"
      ],
      "metadata": {
        "colab": {
          "base_uri": "https://localhost:8080/"
        },
        "id": "Lsttyai_Rq6E",
        "outputId": "e4f7eb54-b426-4f09-e110-71625e7031bf"
      },
      "execution_count": 6,
      "outputs": [
        {
          "output_type": "stream",
          "name": "stdout",
          "text": [
            "(13, 13)\n",
            "The kernel will be executed up to element 208\n"
          ]
        }
      ]
    },
    {
      "cell_type": "code",
      "source": [
        "%%time\n",
        "matmul_gpu[blocks_per_grid, threads_per_block](A_gpu, B_gpu, C_gpu)"
      ],
      "metadata": {
        "colab": {
          "base_uri": "https://localhost:8080/"
        },
        "id": "edD1dU74UKMl",
        "outputId": "e56cfa84-6a35-45b4-c41d-c544b5ee2c8e"
      },
      "execution_count": 7,
      "outputs": [
        {
          "output_type": "stream",
          "name": "stdout",
          "text": [
            "CPU times: user 279 ms, sys: 21 ms, total: 300 ms\n",
            "Wall time: 614 ms\n"
          ]
        }
      ]
    },
    {
      "cell_type": "code",
      "source": [
        "np.allclose(C_cpu, C_gpu)"
      ],
      "metadata": {
        "colab": {
          "base_uri": "https://localhost:8080/"
        },
        "id": "YUIfNT6HmoQb",
        "outputId": "b67b52ce-f4c5-4c2a-83df-00565d7d861a"
      },
      "execution_count": 8,
      "outputs": [
        {
          "output_type": "execute_result",
          "data": {
            "text/plain": [
              "array(True)"
            ]
          },
          "metadata": {},
          "execution_count": 8
        }
      ]
    },
    {
      "cell_type": "code",
      "source": [
        "from matplotlib import pyplot as plt\n",
        "size = [ 100, 200, 400, 600, 800, 1000, 1200, 1400, 1600, 1800, 2000 ]\n",
        "CPU_time = [ 0.00132, 0.0118, 0.0912, 0.296, 0.738, 1.42, 3.04, 3.87, 5.86, 8.85, 13 ]\n",
        "GPU_time = [0.00257, 0.00236, 0.00261,  0.00267, 0.00171, 0.00269, 0.00272, 0.00246, 0.0026, 0.00311, 0.00235 ]\n",
        "\n",
        "acceleration = [cpu / gpu for cpu, gpu in zip(CPU_time, GPU_time)]\n",
        "\n",
        "fig, axes = plt.subplots(nrows=1, ncols=2)\n",
        "axes[0].plot(size, CPU_time, label='CPU', color='maroon')\n",
        "axes[0].plot(size, GPU_time, label='GPU', color='fuchsia')\n",
        "axes[0].grid(True)\n",
        "axes[0].legend()\n",
        "axes[0].set_xlabel(\"Размер матрицы\")\n",
        "axes[0].set_ylabel(\"Время умножения, с\")\n",
        "axes[0].set_title('Время матричного умножения', font = {'weight':'bold', 'size': 10})\n",
        "\n",
        "axes[1].plot(size, acceleration, color='coral')\n",
        "axes[1].grid(True)\n",
        "axes[1].set_xlabel(\"Размер матрицы\")\n",
        "axes[1].set_ylabel(\"Разы\")\n",
        "axes[1].set_title('Ускорение вычислений на GPU', font = {'weight':'bold', 'size': 10})\n",
        "\n",
        "#plt.tight_layout()\n",
        "plt.show()"
      ],
      "metadata": {
        "colab": {
          "base_uri": "https://localhost:8080/",
          "height": 469
        },
        "id": "zMMENjdmVszr",
        "outputId": "72e1a981-047a-4464-895e-63cc53eef471"
      },
      "execution_count": 9,
      "outputs": [
        {
          "output_type": "display_data",
          "data": {
            "text/plain": [
              "<Figure size 640x480 with 2 Axes>"
            ],
            "image/png": "[encoded data removed]"
          },
          "metadata": {}
        }
      ]
    },
    {
      "cell_type": "code",
      "source": [],
      "metadata": {
        "id": "xcamO9S2Z4fV"
      },
      "execution_count": null,
      "outputs": []
    }
  ]
}